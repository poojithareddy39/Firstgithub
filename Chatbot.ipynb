{
  "nbformat": 4,
  "nbformat_minor": 0,
  "metadata": {
    "colab": {
      "provenance": [],
      "authorship_tag": "ABX9TyO882DK85+6eJncE2ggCdFI",
      "include_colab_link": true
    },
    "kernelspec": {
      "name": "python3",
      "display_name": "Python 3"
    },
    "language_info": {
      "name": "python"
    }
  },
  "cells": [
    {
      "cell_type": "markdown",
      "metadata": {
        "id": "view-in-github",
        "colab_type": "text"
      },
      "source": [
        "<a href=\"https://colab.research.google.com/github/poojithareddy39/Firstgithub/blob/main/Chatbot.ipynb\" target=\"_parent\"><img src=\"https://colab.research.google.com/assets/colab-badge.svg\" alt=\"Open In Colab\"/></a>"
      ]
    },
    {
      "cell_type": "code",
      "source": [
        "import nltk\n",
        "nltk.download('punkt')"
      ],
      "metadata": {
        "colab": {
          "base_uri": "https://localhost:8080/"
        },
        "id": "VnmeCvh8kDbI",
        "outputId": "cf40a9ed-ee53-48f6-ae73-38d72f770250"
      },
      "execution_count": 1,
      "outputs": [
        {
          "output_type": "stream",
          "name": "stderr",
          "text": [
            "[nltk_data] Downloading package punkt to /root/nltk_data...\n",
            "[nltk_data]   Unzipping tokenizers/punkt.zip.\n"
          ]
        },
        {
          "output_type": "execute_result",
          "data": {
            "text/plain": [
              "True"
            ]
          },
          "metadata": {},
          "execution_count": 1
        }
      ]
    },
    {
      "cell_type": "code",
      "source": [
        "pairs = [\n",
        "    [\n",
        "        r\"hi|hello|hey\",\n",
        "        [\"Hello! How can I help you today?\", \"Hi there!\", \"Greetings!\"]\n",
        "    ],\n",
        "    [\n",
        "        r\"what is your name?\",\n",
        "        [\"I am a simple chatbot.\", \"You can call me ChatBot.\",]\n",
        "    ],\n",
        "    [\n",
        "        r\"how can I track my order\\s*(.*)?\",\n",
        "        [\"To track your order, please provide your order number.\",]\n",
        "    ],\n",
        "    [\n",
        "        r\"what is the status of my order\\s*(.*)?\",\n",
        "        [\"Could you please share your order number so I can check the status?\",]\n",
        "    ],\n",
        "    [\n",
        "        r\"tell me about your products\",\n",
        "        [\"We offer a variety of products including [list some general product categories].\",]\n",
        "    ],\n",
        "    [\n",
        "        r\"how do I contact you?\",\n",
        "        [\"You can contact us via email at [your support email] or call us at [your support phone number].\",]\n",
        "    ],\n",
        "    [\n",
        "        r\"what are your hours?\",\n",
        "        [\"Our support hours are Monday to Friday, 9 AM to 5 PM [Your Timezone].\",]\n",
        "    ],\n",
        "    [\n",
        "        r\"thanks|thank you\",\n",
        "        [\"You're welcome!\", \"No problem.\", \"Happy to help!\"]\n",
        "    ],\n",
        "    [\n",
        "        r\"bye|goodbye|see you\",\n",
        "        [\"Goodbye! Have a great day!\", \"Bye bye!\", \"See you later.\"]\n",
        "    ],\n",
        "    [\n",
        "        r\"(.*)\",\n",
        "        [\"I'm sorry, I didn't understand that. Could you please rephrase?\", \"Could you please provide more details?\", \"How else can I assist you?\"]\n",
        "    ]\n",
        "]\n"
      ],
      "metadata": {
        "id": "TIP39FZWkLJ3"
      },
      "execution_count": 2,
      "outputs": []
    },
    {
      "cell_type": "code",
      "source": [
        "chatbot = nltk.chat.util.Chat(pairs, nltk.chat.util.reflections)"
      ],
      "metadata": {
        "id": "6Bi8BfuskXC0"
      },
      "execution_count": 3,
      "outputs": []
    },
    {
      "cell_type": "code",
      "source": [
        "def start_chat():\n",
        "    print(\"Welcome to our Customer Support Chatbot!\")\n",
        "    while True:\n",
        "        user_input = input(\"> \")\n",
        "        if user_input.lower() in ['quit', 'exit', 'bye']:\n",
        "            print(chatbot.respond(\"bye\"))\n",
        "            break\n",
        "        response = chatbot.respond(user_input)\n",
        "        print(response)"
      ],
      "metadata": {
        "id": "Vs5fJKTWkb2p"
      },
      "execution_count": 4,
      "outputs": []
    },
    {
      "cell_type": "code",
      "source": [
        "if __name__ == \"__main__\":\n",
        "    start_chat()"
      ],
      "metadata": {
        "colab": {
          "base_uri": "https://localhost:8080/"
        },
        "id": "5c9jeuMwkhqq",
        "outputId": "aedf3c62-e672-424e-cf00-0f06f0f91f8e"
      },
      "execution_count": 5,
      "outputs": [
        {
          "output_type": "stream",
          "name": "stdout",
          "text": [
            "Welcome to our Customer Support Chatbot!\n",
            "> hello\n",
            "Hi there!\n",
            "> what is your name\n",
            "I am a simple chatbot.\n",
            "> tell me about your products.\n",
            "We offer a variety of products including [list some general product categories].\n",
            "> bye\n",
            "Goodbye! Have a great day!\n"
          ]
        }
      ]
    }
  ]
}